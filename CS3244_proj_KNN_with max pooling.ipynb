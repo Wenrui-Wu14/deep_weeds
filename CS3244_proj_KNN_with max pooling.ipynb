{
 "cells": [
  {
   "cell_type": "code",
   "execution_count": 1,
   "metadata": {},
   "outputs": [
    {
     "name": "stdout",
     "output_type": "stream",
     "text": [
      "Requirement already up-to-date: tensorflow-datasets in c:\\users\\lnwwr\\anaconda3\\lib\\site-packages (4.4.0)\n",
      "Requirement already satisfied, skipping upgrade: numpy in c:\\users\\lnwwr\\anaconda3\\lib\\site-packages (from tensorflow-datasets) (1.19.2)\n",
      "Requirement already satisfied, skipping upgrade: requests>=2.19.0 in c:\\users\\lnwwr\\anaconda3\\lib\\site-packages (from tensorflow-datasets) (2.24.0)\n",
      "Requirement already satisfied, skipping upgrade: future in c:\\users\\lnwwr\\anaconda3\\lib\\site-packages (from tensorflow-datasets) (0.18.2)\n",
      "Requirement already satisfied, skipping upgrade: six in c:\\users\\lnwwr\\anaconda3\\lib\\site-packages (from tensorflow-datasets) (1.15.0)\n",
      "Requirement already satisfied, skipping upgrade: protobuf>=3.12.2 in c:\\users\\lnwwr\\anaconda3\\lib\\site-packages (from tensorflow-datasets) (3.17.3)\n",
      "Requirement already satisfied, skipping upgrade: dill in c:\\users\\lnwwr\\anaconda3\\lib\\site-packages (from tensorflow-datasets) (0.3.4)\n",
      "Requirement already satisfied, skipping upgrade: termcolor in c:\\users\\lnwwr\\anaconda3\\lib\\site-packages (from tensorflow-datasets) (1.1.0)\n",
      "Requirement already satisfied, skipping upgrade: tqdm in c:\\users\\lnwwr\\anaconda3\\lib\\site-packages (from tensorflow-datasets) (4.50.2)\n",
      "Requirement already satisfied, skipping upgrade: absl-py in c:\\users\\lnwwr\\anaconda3\\lib\\site-packages (from tensorflow-datasets) (0.13.0)\n",
      "Requirement already satisfied, skipping upgrade: importlib-resources; python_version < \"3.9\" in c:\\users\\lnwwr\\anaconda3\\lib\\site-packages (from tensorflow-datasets) (5.2.2)\n",
      "Requirement already satisfied, skipping upgrade: tensorflow-metadata in c:\\users\\lnwwr\\anaconda3\\lib\\site-packages (from tensorflow-datasets) (1.2.0)\n",
      "Requirement already satisfied, skipping upgrade: promise in c:\\users\\lnwwr\\anaconda3\\lib\\site-packages (from tensorflow-datasets) (2.3)\n",
      "Requirement already satisfied, skipping upgrade: attrs>=18.1.0 in c:\\users\\lnwwr\\anaconda3\\lib\\site-packages (from tensorflow-datasets) (20.3.0)\n",
      "Requirement already satisfied, skipping upgrade: certifi>=2017.4.17 in c:\\users\\lnwwr\\anaconda3\\lib\\site-packages (from requests>=2.19.0->tensorflow-datasets) (2020.6.20)\n",
      "Requirement already satisfied, skipping upgrade: chardet<4,>=3.0.2 in c:\\users\\lnwwr\\anaconda3\\lib\\site-packages (from requests>=2.19.0->tensorflow-datasets) (3.0.4)\n",
      "Requirement already satisfied, skipping upgrade: idna<3,>=2.5 in c:\\users\\lnwwr\\anaconda3\\lib\\site-packages (from requests>=2.19.0->tensorflow-datasets) (2.10)\n",
      "Requirement already satisfied, skipping upgrade: urllib3!=1.25.0,!=1.25.1,<1.26,>=1.21.1 in c:\\users\\lnwwr\\anaconda3\\lib\\site-packages (from requests>=2.19.0->tensorflow-datasets) (1.25.11)\n",
      "Requirement already satisfied, skipping upgrade: zipp>=3.1.0; python_version < \"3.10\" in c:\\users\\lnwwr\\anaconda3\\lib\\site-packages (from importlib-resources; python_version < \"3.9\"->tensorflow-datasets) (3.4.0)\n",
      "Requirement already satisfied, skipping upgrade: googleapis-common-protos<2,>=1.52.0 in c:\\users\\lnwwr\\anaconda3\\lib\\site-packages (from tensorflow-metadata->tensorflow-datasets) (1.53.0)\n",
      "Note: you may need to restart the kernel to use updated packages.\n"
     ]
    }
   ],
   "source": [
    "pip install --upgrade tensorflow-datasets"
   ]
  },
  {
   "cell_type": "code",
   "execution_count": 4,
   "metadata": {},
   "outputs": [],
   "source": [
    "import tensorflow as tf\n",
    "import pandas as pd\n",
    "import numpy as np\n",
    "from tensorflow import keras\n",
    "from tensorflow.keras import layers, optimizers\n",
    "import tensorflow_datasets as tfds\n",
    "import matplotlib.pyplot as plt"
   ]
  },
  {
   "cell_type": "code",
   "execution_count": 5,
   "metadata": {},
   "outputs": [],
   "source": [
    "ds = tfds.load('deep_weeds', as_supervised=True, shuffle_files=False, split='train')\n",
    "\n",
    "images = []\n",
    "labels = []\n",
    "for image, label in ds:\n",
    "  images.append(image.numpy())\n",
    "  labels.append(label.numpy())\n",
    "X = np.asarray(images)\n",
    "y = np.asarray(labels)"
   ]
  },
  {
   "cell_type": "code",
   "execution_count": 6,
   "metadata": {},
   "outputs": [],
   "source": [
    "np.save(r'C:\\Users\\lnwwr\\Desktop\\CS3244\\Project\\x_train.npy', X)\n",
    "np.save(r'C:\\Users\\lnwwr\\Desktop\\CS3244\\Project\\y_train.npy', y)"
   ]
  },
  {
   "cell_type": "markdown",
   "metadata": {},
   "source": [
    "Extract original x_train and y_train"
   ]
  },
  {
   "cell_type": "code",
   "execution_count": 7,
   "metadata": {},
   "outputs": [],
   "source": [
    "X = np.load(r'C:\\Users\\lnwwr\\Desktop\\CS3244\\Project\\x_train.npy')\n",
    "y = np.load(r'C:\\Users\\lnwwr\\Desktop\\CS3244\\Project\\y_train.npy')"
   ]
  },
  {
   "cell_type": "code",
   "execution_count": 8,
   "metadata": {},
   "outputs": [],
   "source": [
    "from sklearn.model_selection import train_test_split\n",
    "x_train, x_test, y_train, y_test = train_test_split(X, y, stratify=y, test_size=.2, random_state=0)\n"
   ]
  },
  {
   "cell_type": "markdown",
   "metadata": {},
   "source": [
    "Shape of original x_train and x_test"
   ]
  },
  {
   "cell_type": "code",
   "execution_count": 9,
   "metadata": {},
   "outputs": [
    {
     "name": "stdout",
     "output_type": "stream",
     "text": [
      "(14007, 256, 256, 3)\n",
      "(3502, 256, 256, 3)\n"
     ]
    }
   ],
   "source": [
    "print(x_train.shape)\n",
    "print(x_test.shape)"
   ]
  },
  {
   "cell_type": "markdown",
   "metadata": {},
   "source": [
    "Max pooling with window size of (4, 4, 1)"
   ]
  },
  {
   "cell_type": "code",
   "execution_count": 10,
   "metadata": {},
   "outputs": [],
   "source": [
    "import skimage.measure\n",
    "x_train_new = np.zeros((14007,64,64,3))\n",
    "for i in range(len(x_train)):\n",
    "    x_train_new[i] = skimage.measure.block_reduce(x_train[i], (4,4,1), np.max)"
   ]
  },
  {
   "cell_type": "code",
   "execution_count": 11,
   "metadata": {},
   "outputs": [],
   "source": [
    "x_test_new = np.zeros((3502,64,64,3))\n",
    "for i in range(len(x_test)):\n",
    "    x_test_new[i] = skimage.measure.block_reduce(x_test[i], (4,4,1), np.max)"
   ]
  },
  {
   "cell_type": "code",
   "execution_count": 12,
   "metadata": {},
   "outputs": [],
   "source": [
    "x_train_new = np.reshape(x_train_new, (x_train_new.shape[0], -1))\n",
    "x_test_new = np.reshape(x_test_new, (x_test_new.shape[0], -1))"
   ]
  },
  {
   "cell_type": "code",
   "execution_count": 13,
   "metadata": {},
   "outputs": [],
   "source": [
    "np.save(r'C:\\Users\\lnwwr\\Desktop\\CS3244\\Project\\x_train_new.npy',x_train_new)\n",
    "np.save(r'C:\\Users\\lnwwr\\Desktop\\CS3244\\Project\\x_test_new.npy', x_test_new)"
   ]
  },
  {
   "cell_type": "code",
   "execution_count": 14,
   "metadata": {},
   "outputs": [],
   "source": [
    "x_train_new = np.load(r'C:\\Users\\lnwwr\\Desktop\\CS3244\\Project\\x_train_new.npy')\n",
    "x_test_new = np.load(r'C:\\Users\\lnwwr\\Desktop\\CS3244\\Project\\x_test_new.npy')"
   ]
  },
  {
   "cell_type": "code",
   "execution_count": null,
   "metadata": {},
   "outputs": [
    {
     "name": "stdout",
     "output_type": "stream",
     "text": [
      "KNN (k = 1) training accuracy: 1.000000\n",
      "KNN (k = 1) test accuracy: 0.520274\n",
      "KNN (k = 2) training accuracy: 0.972728\n",
      "KNN (k = 2) test accuracy: 0.518846\n",
      "KNN (k = 3) training accuracy: 0.559577\n",
      "KNN (k = 3) test accuracy: 0.522273\n",
      "KNN (k = 4) training accuracy: 0.548012\n",
      "KNN (k = 4) test accuracy: 0.526842\n",
      "KNN (k = 5) training accuracy: 0.539587\n",
      "KNN (k = 5) test accuracy: 0.527127\n",
      "KNN (k = 6) training accuracy: 0.538945\n",
      "KNN (k = 6) test accuracy: 0.529697\n"
     ]
    }
   ],
   "source": [
    "from sklearn.neighbors import KNeighborsClassifier\n",
    "\n",
    "for i in range(1,10):\n",
    "    knn = KNeighborsClassifier(n_neighbors=i)\n",
    "    knn.fit(x_train_new, y_train)\n",
    "    y_pred = knn.predict(x_test_new)\n",
    "    train_acc = knn.score(x_train_new, y_train)\n",
    "    test_acc = knn.score(x_test_new, y_test)\n",
    "    print(\"KNN (k = %d) training accuracy: %f\" %(i,train_acc))\n",
    "    print(\"KNN (k = %d) test accuracy: %f\" %(i,test_acc))"
   ]
  },
  {
   "cell_type": "markdown",
   "metadata": {},
   "source": [
    "SVM"
   ]
  },
  {
   "cell_type": "code",
   "execution_count": 19,
   "metadata": {},
   "outputs": [],
   "source": [
    "from sklearn.svm import SVC\n",
    "\n",
    "svm = SVC()\n",
    "svm.fit(x_train_new, y_train)\n",
    "y_pred = svm.predict(x_test_new)"
   ]
  },
  {
   "cell_type": "code",
   "execution_count": 21,
   "metadata": {},
   "outputs": [
    {
     "name": "stdout",
     "output_type": "stream",
     "text": [
      "SVM training accuracy: 0.728850\n",
      "SVM test accuracy: 0.537693\n"
     ]
    }
   ],
   "source": [
    "train_acc = svm.score(x_train_new, y_train)\n",
    "test_acc = svm.score(x_test_new, y_test)\n",
    "print(\"SVM training accuracy: %f\" %(train_acc))\n",
    "print(\"SVM test accuracy: %f\" %(test_acc))"
   ]
  },
  {
   "cell_type": "code",
   "execution_count": null,
   "metadata": {},
   "outputs": [],
   "source": []
  }
 ],
 "metadata": {
  "kernelspec": {
   "display_name": "Python 3",
   "language": "python",
   "name": "python3"
  }
 },
 "nbformat": 4,
 "nbformat_minor": 4
}
