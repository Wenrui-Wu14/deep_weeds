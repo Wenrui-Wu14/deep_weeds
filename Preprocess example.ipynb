{
 "cells": [
  {
   "cell_type": "code",
   "execution_count": 1,
   "metadata": {},
   "outputs": [],
   "source": [
    "import tensorflow as tf\n",
    "import pandas as pd\n",
    "import numpy as np\n",
    "from tensorflow import keras\n",
    "from tensorflow.keras import layers, optimizers\n",
    "import tensorflow_datasets as tfds\n",
    "import matplotlib.pyplot as plt"
   ]
  },
  {
   "cell_type": "code",
   "execution_count": 22,
   "metadata": {},
   "outputs": [],
   "source": [
    "X_raw = np.load(r'C:\\Users\\lnwwr\\Desktop\\CS3244\\Project\\Processed data\\x_train.npy')\n",
    "y_raw = np.load(r'C:\\Users\\lnwwr\\Desktop\\CS3244\\Project\\Processed data\\y_train.npy')"
   ]
  },
  {
   "cell_type": "markdown",
   "metadata": {},
   "source": [
    "Pick first 1000 examples and normalize:"
   ]
  },
  {
   "cell_type": "code",
   "execution_count": 23,
   "metadata": {},
   "outputs": [],
   "source": [
    "X = tf.cast(X_raw[:1000], dtype=tf.float32) / 255.\n",
    "y = tf.cast(y_raw[:1000], dtype=tf.int32)"
   ]
  },
  {
   "cell_type": "code",
   "execution_count": 24,
   "metadata": {},
   "outputs": [
    {
     "name": "stdout",
     "output_type": "stream",
     "text": [
      "(1000, 256, 256, 3)\n",
      "(1000,)\n"
     ]
    }
   ],
   "source": [
    "print(X.shape)\n",
    "print(y.shape)"
   ]
  },
  {
   "cell_type": "code",
   "execution_count": 37,
   "metadata": {},
   "outputs": [],
   "source": [
    "from sklearn.model_selection import train_test_split\n",
    "\n",
    "x_train, x_test, y_train, y_test = train_test_split(X_raw[:1000], y_raw[:1000], stratify=y, test_size=.2, random_state=0)\n",
    "x_train = tf.cast(x_train, dtype=tf.float32) / 255.\n",
    "x_test = tf.cast(x_test, dtype=tf.float32) / 255.\n"
   ]
  },
  {
   "cell_type": "code",
   "execution_count": 38,
   "metadata": {},
   "outputs": [],
   "source": [
    "from sklearn.discriminant_analysis import LinearDiscriminantAnalysis\n",
    "lda = LinearDiscriminantAnalysis()"
   ]
  },
  {
   "cell_type": "code",
   "execution_count": 42,
   "metadata": {},
   "outputs": [
    {
     "name": "stdout",
     "output_type": "stream",
     "text": [
      "(800, 256, 256)\n",
      "(800, 65536)\n"
     ]
    }
   ],
   "source": [
    "nsamples_train, nx, ny, nz = x_train.shape\n",
    "x_train_r = x_train[:,:,:,0].numpy().reshape((nsamples_train,nx*ny))\n",
    "x_train_g = x_train[:,:,:,1].numpy().reshape((nsamples_train,nx*ny))\n",
    "x_train_b = x_train[:,:,:,1].numpy().reshape((nsamples_train,nx*ny))"
   ]
  },
  {
   "cell_type": "code",
   "execution_count": 56,
   "metadata": {},
   "outputs": [],
   "source": [
    "nsamples_test, nx, ny, nz = x_test.shape\n",
    "x_test_r = x_test[:,:,:,0].numpy().reshape((nsamples_test,nx*ny))\n",
    "x_test_g = x_test[:,:,:,1].numpy().reshape((nsamples_test,nx*ny))\n",
    "x_test_b = x_test[:,:,:,1].numpy().reshape((nsamples_test,nx*ny))"
   ]
  },
  {
   "cell_type": "code",
   "execution_count": 44,
   "metadata": {},
   "outputs": [],
   "source": [
    "X_lda_r = lda.fit(x_train_r,y_train).transform(x_train_r)\n",
    "X_lda_g = lda.fit(x_train_g,y_train).transform(x_train_g)\n",
    "X_lda_b = lda.fit(x_train_b,y_train).transform(x_train_b)"
   ]
  },
  {
   "cell_type": "code",
   "execution_count": 52,
   "metadata": {},
   "outputs": [
    {
     "name": "stdout",
     "output_type": "stream",
     "text": [
      "(800, 8)\n",
      "(800, 8)\n",
      "(800, 8)\n",
      "(800,)\n"
     ]
    }
   ],
   "source": [
    "print(X_lda_r.shape)\n",
    "print(X_lda_g.shape)\n",
    "print(X_lda_b.shape)\n",
    "print(y_train.shape)"
   ]
  },
  {
   "cell_type": "code",
   "execution_count": 57,
   "metadata": {},
   "outputs": [],
   "source": [
    "X_test_lda_r = lda.fit(x_test_r,y_test).transform(x_test_r)\n",
    "X_test_lda_g = lda.fit(x_test_g,y_test).transform(x_test_g)\n",
    "X_test_lda_b = lda.fit(x_test_b,y_test).transform(x_test_b)"
   ]
  },
  {
   "cell_type": "code",
   "execution_count": 58,
   "metadata": {
    "scrolled": true
   },
   "outputs": [
    {
     "name": "stdout",
     "output_type": "stream",
     "text": [
      "(200, 8)\n",
      "(200, 8)\n",
      "(200, 8)\n",
      "(200,)\n"
     ]
    }
   ],
   "source": [
    "print(X_test_lda_r.shape)\n",
    "print(X_test_lda_g.shape)\n",
    "print(X_test_lda_b.shape)\n",
    "print(y_test.shape)"
   ]
  },
  {
   "cell_type": "markdown",
   "metadata": {},
   "source": [
    "Do binary classification: class 0 (Chinese Apple) vs other classes."
   ]
  },
  {
   "cell_type": "code",
   "execution_count": 67,
   "metadata": {},
   "outputs": [],
   "source": [
    "y_train_new = []\n",
    "for label in y_train:\n",
    "    if label != 0:\n",
    "        y_train_new.append(1)\n",
    "    else:\n",
    "        y_train_new.append(label)\n",
    "y_train_new = np.asarray(y_train_new)"
   ]
  },
  {
   "cell_type": "code",
   "execution_count": 71,
   "metadata": {},
   "outputs": [],
   "source": [
    "y_test_new = []\n",
    "for label in y_test:\n",
    "    if label != 0:\n",
    "        y_test_new.append(1)\n",
    "    else:\n",
    "        y_test_new.append(label)\n",
    "y_test_new = np.asarray(y_test_new)"
   ]
  },
  {
   "cell_type": "code",
   "execution_count": 74,
   "metadata": {},
   "outputs": [],
   "source": [
    "x_train_lda = np.concatenate((X_lda_r, X_lda_g, X_lda_b), axis=1)\n",
    "x_test_lda = np.concatenate((X_test_lda_r, X_test_lda_g, X_test_lda_b), axis=1)"
   ]
  },
  {
   "cell_type": "code",
   "execution_count": 76,
   "metadata": {},
   "outputs": [
    {
     "name": "stdout",
     "output_type": "stream",
     "text": [
      "KNN training accuracy: 0.973750\n",
      "KNN test accuracy: 0.960000\n"
     ]
    }
   ],
   "source": [
    "from sklearn.neighbors import KNeighborsClassifier\n",
    "\n",
    "knn = KNeighborsClassifier(n_neighbors=6)\n",
    "knn.fit(x_train_lda, y_train_new)\n",
    "y_pred = knn.predict(x_test_lda)\n",
    "train_acc = knn.score(x_train_lda, y_train_new)\n",
    "test_acc = knn.score(x_test_lda, y_test_new)\n",
    "print(\"KNN training accuracy: %f\" %(train_acc))\n",
    "print(\"KNN test accuracy: %f\" %(test_acc))"
   ]
  },
  {
   "cell_type": "code",
   "execution_count": null,
   "metadata": {},
   "outputs": [],
   "source": []
  },
  {
   "cell_type": "code",
   "execution_count": null,
   "metadata": {},
   "outputs": [],
   "source": [
    "train_data_generator = ImageDataGenerator(\n",
    "    rescale=1. / 255,\n",
    "    fill_mode=\"constant\",\n",
    "    shear_range=0.2,\n",
    "    zoom_range=(0.5, 1),\n",
    "    horizontal_flip=True,\n",
    "    rotation_range=360,\n",
    "    channel_shift_range=25,\n",
    "    brightness_range=(0.75, 1.25))"
   ]
  }
 ],
 "metadata": {
  "kernelspec": {
   "display_name": "Python 3",
   "language": "python",
   "name": "python3"
  },
  "language_info": {
   "codemirror_mode": {
    "name": "ipython",
    "version": 3
   },
   "file_extension": ".py",
   "mimetype": "text/x-python",
   "name": "python",
   "nbconvert_exporter": "python",
   "pygments_lexer": "ipython3",
   "version": "3.8.5"
  }
 },
 "nbformat": 4,
 "nbformat_minor": 4
}
